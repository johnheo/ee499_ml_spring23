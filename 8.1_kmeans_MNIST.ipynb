{
 "cells": [
  {
   "cell_type": "markdown",
   "metadata": {},
   "source": [
    "**Instructors**: Prof. Keith Chugg (chugg@usc.edu) & Prof. Antonio Ortega (aortega@usc.edu)\n",
    "\n",
    "**Teaching Assistant**: Alexios Rustom (arustom@usc.edu)\n",
    "\n",
    "**Book**: Watt, J., Borhani, R., & Katsaggelos, A. K. (2020). Machine learning refined: Foundations, algorithms, and applications. Cambridge University Press.\n",
    "\n",
    "**Notebooks**: Written by Alexios Rustom (arustom@usc.edu) and Prof. Keith Chugg (chugg@usc.edu)"
   ]
  },
  {
   "cell_type": "code",
   "execution_count": 2,
   "metadata": {},
   "outputs": [],
   "source": [
    "import os\n",
    "import numpy as np \n",
    "import matplotlib.pyplot as plt\n",
    "from torchvision import datasets\n",
    "from sklearn.cluster import MiniBatchKMeans\n",
    "from sklearn.metrics import accuracy_score"
   ]
  },
  {
   "cell_type": "code",
   "execution_count": 3,
   "metadata": {},
   "outputs": [],
   "source": [
    "def load_MNIST_data(data_path, fashion=False, quiet=False):\n",
    "    if not fashion:\n",
    "        train_set = datasets.MNIST(data_path, download=True, train=True)\n",
    "        test_set = datasets.MNIST(data_path, download=True, train=False)\n",
    "    else:\n",
    "        train_set = datasets.FashionMNIST(data_path, download=True, train=True)\n",
    "        test_set = datasets.FashionMNIST(data_path, download=True, train=False)      \n",
    "    x_train = train_set.data.numpy()\n",
    "    y_train = train_set.targets.numpy()\n",
    "\n",
    "    x_test = test_set.data.numpy()\n",
    "    y_test = test_set.targets.numpy()\n",
    "    \n",
    "    N_train, H, W = x_train.shape\n",
    "    N_test, H, W = x_test.shape\n",
    "\n",
    "    if not quiet:\n",
    "        print(f'The data are {H} x {W} grayscale images.')\n",
    "        print(f'N_train = {N_train}')\n",
    "        print(f'N_test = {N_test}')\n",
    "    for i in set(y_train):\n",
    "        N_i_train = np.sum(y_train==i)\n",
    "        N_i_test = np.sum(y_test==i)\n",
    "        if not quiet:\n",
    "            print(f'Class {i}: has {N_i_train} train images ({100 * N_i_train / N_train : .2f} %), {N_i_test} test images ({100 * N_i_test/ N_test : .2f} %) ')\n",
    "    return x_train, y_train, x_test, y_test"
   ]
  },
  {
   "cell_type": "code",
   "execution_count": null,
   "metadata": {},
   "outputs": [],
   "source": [
    "def extract_two_classes(x, labels, class_1, class_2):\n",
    "    x_1 = x[labels==class_1]\n",
    "    y_1 = np.ones(x_1.shape[0], dtype=int) * class_1\n",
    "    x_2 = x[labels==class_2]\n",
    "    y_2 = np.ones(x_2.shape[0], dtype=int) * class_2\n",
    "    \n",
    "    x_shape = x.shape\n",
    "    N1 = len(y_1)\n",
    "    N2 = len(y_2)\n",
    "    N_12 = N1 + N2\n",
    "    x_12 = np.zeros((N_12, x_shape[1], x_shape[2]))\n",
    "    x_12[:N1] = x_1\n",
    "    x_12[N1:] = x_2\n",
    "\n",
    "    print(f'Class {class_1}: has {N1} images ({100 * N1 / (N_12) : .2f} %)')\n",
    "    print(f'Class {class_2}: has {N2} images ({100 * N2 / (N_12) : .2f} %)')\n",
    "\n",
    "    return x_12, np.append(y_1, y_2)"
   ]
  },
  {
   "cell_type": "markdown",
   "metadata": {},
   "source": [
    "##  K-means Clustering"
   ]
  },
  {
   "attachments": {},
   "cell_type": "markdown",
   "metadata": {},
   "source": [
    "- One very simple way to simplify a dataset is by grouping together nearby points into *clusters*.  \n",
    "\n",
    "- We will denote our set of $P$ points generically as $\\mathbf{x}_1,\\,\\mathbf{x}_2,\\,...,\\mathbf{x}_P$$ all of dimension $N$. \n",
    "\n",
    "- To keep things as generally applicable as possible we will also use the notation $K$ to denote the number of clusters in a dataset.  \n",
    "\n",
    "- Because each cluster has a centroid we need notation for this as well, and we will use $\\mathbf{c}_1,\\,\\mathbf{c}_2,\\,...,\\mathbf{c}_K$ to denote these where $\\mathbf{c}_k$ is the centroid of the $k^{th}$ cluster.  \n",
    "\n",
    "\n",
    "- Finally we need a notation to denote the set of points that belong to each cluster.  We denote the set of indices of those points belonging to the $k^{th}$ cluster as\n",
    "\n",
    "\\begin{equation}\n",
    "\\mathcal{S}_k =  \\left\\{ p\\,\\, \\lvert \\,\\,\\text{if $\\mathbf{x}_p$ belongs to the $k^{th}$ cluster } \\right\\}.\n",
    "\\end{equation}\n",
    "\n",
    "- With all of our notation in hand we can now better describe the clustering scenario.  \n",
    "\n",
    "\n",
    "- Again, note here we have assumed that we have identified each cluster and its centroid.  \n",
    "\n",
    "\n",
    "- Firstly, because the centroid denotes the center of a cluster it seems intuitive that each one should be expressible as the average of the points assigned to each cluster.  \n",
    "\n",
    "- Algebraically this is to say that\n",
    "\n",
    "\\begin{equation}\n",
    "\\mathbf{c}_k = \\frac{1}{\\left\\vert\\mathcal{S}_k\\right\\vert}\\sum_{p\\in\\mathcal{S}_k}\\mathbf{x}_p.\n",
    "\\end{equation}\n",
    "\n",
    "\n",
    "- This formula confirms the intuition that each centroid represents a chunk of the data - the average of those points belonging to each cluster.  \n",
    "\n",
    "\n",
    "- Next we can state mathematically an obvious and implicit fact about the clustering scenario above: that each point belongs to the cluster whose centroid it is closest to. \n",
    "\n",
    "- To express this algebraically for a given point $\\mathbf{x}_p$ is simply say that the point must belong to the cluster where the distance to the centroid $\\left\\Vert \\mathbf{x}_p - \\mathbf{c}_k \\right\\Vert_2$ is minimal.  \n",
    "\n",
    "\n",
    "- In other words, the point $\\mathbf{x}_p$ belongs to or is *assigned* to cluster $k^{\\star}$ if\n",
    "\n",
    "\\begin{equation}\n",
    "a_p = \\underset{k=1,...,K}{\\text{argmin}} \\,\\,\\,\\left\\Vert \\mathbf{x}_p - \\mathbf{c}_k \\right\\Vert_2\n",
    "\\end{equation}\n",
    "\n",
    "- In the jargon of machine learning these are called cluster *assignments*."
   ]
  },
  {
   "cell_type": "markdown",
   "metadata": {},
   "source": [
    "###  Learning clusters to represent data"
   ]
  },
  {
   "attachments": {},
   "cell_type": "markdown",
   "metadata": {},
   "source": [
    "- We do not want to have to visually identify clusters in a dataset ourselves, and in any being constrained three dimensions if the dimension of of a dataset is greater than $N=3$ there is no way for us humans to do this anyway.  Instead we want an algorithm that will do this for us automatically.\n",
    "\n",
    "- Thankfully we can do this rather easily using the framework detailed above for mathematically describing clusters - the resulting algorithm being called the *K-means clustering algorithm*.  As with many of the algorithms we have seen K-means is an *iterative method*, meaning that we will refine the ideal location for our cluster centroids / cluster assignments over a number of update steps.\n",
    "\n",
    "- To get started -  let us say that we want to cluster a dataset of $P$ points into $K$ clusters automatically.  \n",
    "\n",
    "\n",
    "- Note here that we will fix $K$, and address how to properly decide on its value later.  \n",
    "\n",
    "\n",
    "- Now to state the obvious - remember - we know neither a) the locations of each cluster centroid nor b) the cluster assignments.\n",
    "\n",
    "- Since we do not know where the clusters nor their centroids are located we can start off by taking a random guess at the locations of our $K$ centroids (we have to start somewhere).  \n",
    "\n",
    "\n",
    "- This 'random guess' - our initialization - for the $K$ centroids could be a random subset of $K$ of our points, or any number of other types of initialization.\n",
    "\n",
    "- With our initial centroid locations decided on we can then determine cluster assignments by simply looping over our points and for each $\\mathbf{x}_p$ finding its closest centroid using the formula we saw above\n",
    "\n",
    "\\begin{equation}\n",
    "a_p = \\underset{k=1,...,K}{\\text{argmin}} \\,\\,\\,\\left\\Vert \\mathbf{x}_p - \\mathbf{c}_k \\right\\Vert_2.\n",
    "\\end{equation}\n",
    "\n",
    "- Now we have both an initial guess at our centroids and clustering assignments.  \n",
    "\n",
    "\n",
    "- With our cluster assignments in hand we can then update our centroid locations - as the average of the points assigned to each cluster\n",
    "\n",
    "\\begin{equation}\n",
    "\\mathbf{c}_k = \\frac{1}{\\left\\vert\\mathcal{S}_k\\right\\vert}\\sum_{p\\in\\mathcal{S}_k}\\mathbf{x}_p.\n",
    "\\end{equation}\n",
    "\n",
    "- To further refine our centroids / clusters we can now just repeat the above two-step process of re-assigning points based on our new centroid locations and then updating the centroid locations as the average of those points assigned to each cluster.  \n",
    "\n",
    "\n",
    "- We can halt doing so after e.g., a pre-defined number of maximum iterations or when the cluster centroids to not change location very much from one iteration to the next."
   ]
  },
  {
   "cell_type": "markdown",
   "metadata": {},
   "source": [
    "### The K-means algorithm\n",
    "\n",
    "<hr style=\"height:1px;border:none;color:#555;background-color:#555;\">\n",
    "<p style=\"line-height: 1.7;\">\n",
    "\n",
    "<strong>1:</strong>&nbsp;&nbsp; <strong>input:</strong> dataset $\\mathbf{x}_1,\\cdots,\\mathbf{x}_P$, initializations for centroids $\\mathbf{c}_1,...,\\mathbf{c}_K$, and maximum number of iterations $J$ <br>\n",
    "\n",
    "<strong>2:</strong>&nbsp;&nbsp; <code>for</code> $\\,\\,j = 1,\\ldots,J$<br>\n",
    "\n",
    "<strong>3:</strong>&nbsp;&nbsp;&nbsp;&nbsp;&nbsp;&nbsp;&nbsp;&nbsp;&nbsp;&nbsp; <code># Update cluster assignments</code><br>\n",
    "\n",
    "<strong>4:</strong>&nbsp;&nbsp;&nbsp;&nbsp;&nbsp;&nbsp;&nbsp;&nbsp;&nbsp;&nbsp; <code>for</code> $\\,\\,p = 1,\\ldots,P$<br>\n",
    "\n",
    "<strong>5:</strong>&nbsp;&nbsp;&nbsp;&nbsp;&nbsp;&nbsp;&nbsp;&nbsp;&nbsp;&nbsp;&nbsp;&nbsp;&nbsp;&nbsp;&nbsp;&nbsp;&nbsp;&nbsp;&nbsp;&nbsp; $a_p =\\underset{k=1,\\ldots,K}{\\text{argmin}}\\,\\,\\left\\Vert \\mathbf{c}_{k}-\\mathbf{x}_{p}\\right\\Vert _{2}$<br>\n",
    "\n",
    "<strong>6:</strong>&nbsp;&nbsp;&nbsp;&nbsp;&nbsp;&nbsp;&nbsp;&nbsp;&nbsp;&nbsp; <code>end for</code><br>\n",
    "\n",
    "<strong>7:</strong>&nbsp;&nbsp;&nbsp;&nbsp;&nbsp;&nbsp;&nbsp;&nbsp;&nbsp;&nbsp; <code># Update centroid locations</code><br>\n",
    "\n",
    "<strong>8:</strong>&nbsp;&nbsp;&nbsp;&nbsp;&nbsp;&nbsp;&nbsp;&nbsp;&nbsp;&nbsp; <code>for</code> $\\,\\,k = 1,\\ldots,K$<br>\n",
    "\n",
    "<strong>9:</strong>&nbsp;&nbsp;&nbsp;&nbsp;&nbsp;&nbsp;&nbsp;&nbsp;&nbsp;&nbsp;&nbsp;&nbsp;&nbsp;&nbsp;&nbsp;&nbsp;&nbsp;&nbsp;&nbsp;&nbsp; denote $\\mathcal{S}_{k}$ the index set of points $\\mathbf{x}_{p}$ currently assigned to the $k^{th}$ cluster<br>\n",
    "\n",
    "<strong>10:</strong>&nbsp;&nbsp;&nbsp;&nbsp;&nbsp;&nbsp;&nbsp;&nbsp;&nbsp;&nbsp;&nbsp;&nbsp;&nbsp;&nbsp;&nbsp;&nbsp;&nbsp;&nbsp; update $\\mathbf{c}_k$ via $\\mathbf{c}_{k}=\\frac{1}{\\left|\\mathcal{S}_{k}\\right|}\\underset{p\\in\\mathcal{S}_{k}}{\\sum}\\mathbf{x}_{p}$<br>\n",
    "\n",
    "<strong>11:</strong>&nbsp;&nbsp;&nbsp;&nbsp;&nbsp;&nbsp;&nbsp;&nbsp; <code>end for</code><br>\n",
    "\n",
    "<strong>12:</strong>&nbsp; <code>end for</code><br>\n",
    "\n",
    "<strong>13:</strong>&nbsp;&nbsp; <code># Update cluster assignments using final centroids</code><br>\n",
    "\n",
    "<strong>14:</strong>&nbsp;&nbsp; <code>for</code> $\\,\\,p = 1,\\ldots,P$<br>\n",
    "\n",
    "<strong>15:</strong>&nbsp;&nbsp;&nbsp;&nbsp;&nbsp;&nbsp;&nbsp;&nbsp;&nbsp;&nbsp;&nbsp; $a_p =\\underset{k=1,\\ldots,K}{\\text{argmin}}\\,\\,\\left\\Vert \\mathbf{c}_{k}-\\mathbf{x}_{p}\\right\\Vert _{2}$<br>\n",
    "\n",
    "<strong>16:</strong>&nbsp;&nbsp; <code>end for</code><br>\n",
    "\n",
    "<strong>17:</strong>&nbsp; <strong>output:</strong> optimal centroids and assignments<br>\n",
    "\n",
    "<hr style=\"height:1px;border:none;color:#555;background-color:#555;\">\n",
    "</p>"
   ]
  },
  {
   "cell_type": "code",
   "execution_count": 5,
   "metadata": {},
   "outputs": [
    {
     "name": "stdout",
     "output_type": "stream",
     "text": [
      "The data are 28 x 28 grayscale images.\n",
      "N_train = 60000\n",
      "N_test = 10000\n",
      "Class 0: has 5923 train images ( 9.87 %), 980 test images ( 9.80 %) \n",
      "Class 1: has 6742 train images ( 11.24 %), 1135 test images ( 11.35 %) \n",
      "Class 2: has 5958 train images ( 9.93 %), 1032 test images ( 10.32 %) \n",
      "Class 3: has 6131 train images ( 10.22 %), 1010 test images ( 10.10 %) \n",
      "Class 4: has 5842 train images ( 9.74 %), 982 test images ( 9.82 %) \n",
      "Class 5: has 5421 train images ( 9.04 %), 892 test images ( 8.92 %) \n",
      "Class 6: has 5918 train images ( 9.86 %), 958 test images ( 9.58 %) \n",
      "Class 7: has 6265 train images ( 10.44 %), 1028 test images ( 10.28 %) \n",
      "Class 8: has 5851 train images ( 9.75 %), 974 test images ( 9.74 %) \n",
      "Class 9: has 5949 train images ( 9.91 %), 1009 test images ( 10.09 %) \n"
     ]
    }
   ],
   "source": [
    "USE_FASHION_MNIST = False\n",
    "if USE_FASHION_MNIST:\n",
    "    tag_name = 'FashionMNIST'\n",
    "else:\n",
    "    tag_name = 'MNIST'\n",
    "    \n",
    "x_train, y_train, x_test, y_test = load_MNIST_data('./data/', fashion=USE_FASHION_MNIST, quiet=False)"
   ]
  },
  {
   "cell_type": "code",
   "execution_count": 6,
   "metadata": {},
   "outputs": [
    {
     "data": {
      "text/plain": [
       "<Figure size 640x480 with 0 Axes>"
      ]
     },
     "metadata": {},
     "output_type": "display_data"
    },
    {
     "data": {
      "image/png": "[encoded data removed]",
      "text/plain": [
       "<Figure size 1500x900 with 9 Axes>"
      ]
     },
     "metadata": {},
     "output_type": "display_data"
    }
   ],
   "source": [
    "plt.gray() # B/W Images\n",
    "plt.figure(figsize = (15,9)) # Adjusting figure size\n",
    "# Displaying a grid of 3x3 images\n",
    "for i in range(9):\n",
    "    index = np.random.randint(low=0, high=len(y_train), dtype=int)\n",
    "    plt.subplot(3,3,i+1)\n",
    "    plt.imshow(x_train[index])\n",
    "plt.show()"
   ]
  },
  {
   "cell_type": "code",
   "execution_count": 7,
   "metadata": {},
   "outputs": [],
   "source": [
    "x_train_float = x_train.astype(\"float32\") \n",
    "x_test_float = x_test.astype(\"float32\")\n",
    "# Normalization\n",
    "x_train_normalized = x_train_float/255.0\n",
    "x_test_normalized = x_test_float/255.0"
   ]
  },
  {
   "cell_type": "code",
   "execution_count": 13,
   "metadata": {},
   "outputs": [
    {
     "name": "stdout",
     "output_type": "stream",
     "text": [
      "x_train_normalized.shape: (60000, 28, 28)\n",
      "X_train.shape: (60000, 784)\n"
     ]
    }
   ],
   "source": [
    "X_train = x_train_normalized.reshape(len(x_train_normalized),-1) #reshape to fed into k_means clustering\n",
    "X_test = x_test_normalized.reshape(len(x_test_normalized),-1) #reshape to fed into k_means clustering\n",
    "\n",
    "print(f'x_train_normalized.shape: {x_train_normalized.shape}')\n",
    "print(f'X_train.shape: {X_train.shape}')"
   ]
  },
  {
   "cell_type": "code",
   "execution_count": 11,
   "metadata": {},
   "outputs": [
    {
     "name": "stdout",
     "output_type": "stream",
     "text": [
      "Number of Clusters:  10\n"
     ]
    }
   ],
   "source": [
    "num_clusters = len(np.unique(y_test))\n",
    "print('Number of Clusters: ', num_clusters)"
   ]
  },
  {
   "cell_type": "code",
   "execution_count": 12,
   "metadata": {},
   "outputs": [
    {
     "data": {
      "text/html": [
       "<style>#sk-container-id-1 {color: black;background-color: white;}#sk-container-id-1 pre{padding: 0;}#sk-container-id-1 div.sk-toggleable {background-color: white;}#sk-container-id-1 label.sk-toggleable__label {cursor: pointer;display: block;width: 100%;margin-bottom: 0;padding: 0.3em;box-sizing: border-box;text-align: center;}#sk-container-id-1 label.sk-toggleable__label-arrow:before {content: \"▸\";float: left;margin-right: 0.25em;color: #696969;}#sk-container-id-1 label.sk-toggleable__label-arrow:hover:before {color: black;}#sk-container-id-1 div.sk-estimator:hover label.sk-toggleable__label-arrow:before {color: black;}#sk-container-id-1 div.sk-toggleable__content {max-height: 0;max-width: 0;overflow: hidden;text-align: left;background-color: #f0f8ff;}#sk-container-id-1 div.sk-toggleable__content pre {margin: 0.2em;color: black;border-radius: 0.25em;background-color: #f0f8ff;}#sk-container-id-1 input.sk-toggleable__control:checked~div.sk-toggleable__content {max-height: 200px;max-width: 100%;overflow: auto;}#sk-container-id-1 input.sk-toggleable__control:checked~label.sk-toggleable__label-arrow:before {content: \"▾\";}#sk-container-id-1 div.sk-estimator input.sk-toggleable__control:checked~label.sk-toggleable__label {background-color: #d4ebff;}#sk-container-id-1 div.sk-label input.sk-toggleable__control:checked~label.sk-toggleable__label {background-color: #d4ebff;}#sk-container-id-1 input.sk-hidden--visually {border: 0;clip: rect(1px 1px 1px 1px);clip: rect(1px, 1px, 1px, 1px);height: 1px;margin: -1px;overflow: hidden;padding: 0;position: absolute;width: 1px;}#sk-container-id-1 div.sk-estimator {font-family: monospace;background-color: #f0f8ff;border: 1px dotted black;border-radius: 0.25em;box-sizing: border-box;margin-bottom: 0.5em;}#sk-container-id-1 div.sk-estimator:hover {background-color: #d4ebff;}#sk-container-id-1 div.sk-parallel-item::after {content: \"\";width: 100%;border-bottom: 1px solid gray;flex-grow: 1;}#sk-container-id-1 div.sk-label:hover label.sk-toggleable__label {background-color: #d4ebff;}#sk-container-id-1 div.sk-serial::before {content: \"\";position: absolute;border-left: 1px solid gray;box-sizing: border-box;top: 0;bottom: 0;left: 50%;z-index: 0;}#sk-container-id-1 div.sk-serial {display: flex;flex-direction: column;align-items: center;background-color: white;padding-right: 0.2em;padding-left: 0.2em;position: relative;}#sk-container-id-1 div.sk-item {position: relative;z-index: 1;}#sk-container-id-1 div.sk-parallel {display: flex;align-items: stretch;justify-content: center;background-color: white;position: relative;}#sk-container-id-1 div.sk-item::before, #sk-container-id-1 div.sk-parallel-item::before {content: \"\";position: absolute;border-left: 1px solid gray;box-sizing: border-box;top: 0;bottom: 0;left: 50%;z-index: -1;}#sk-container-id-1 div.sk-parallel-item {display: flex;flex-direction: column;z-index: 1;position: relative;background-color: white;}#sk-container-id-1 div.sk-parallel-item:first-child::after {align-self: flex-end;width: 50%;}#sk-container-id-1 div.sk-parallel-item:last-child::after {align-self: flex-start;width: 50%;}#sk-container-id-1 div.sk-parallel-item:only-child::after {width: 0;}#sk-container-id-1 div.sk-dashed-wrapped {border: 1px dashed gray;margin: 0 0.4em 0.5em 0.4em;box-sizing: border-box;padding-bottom: 0.4em;background-color: white;}#sk-container-id-1 div.sk-label label {font-family: monospace;font-weight: bold;display: inline-block;line-height: 1.2em;}#sk-container-id-1 div.sk-label-container {text-align: center;}#sk-container-id-1 div.sk-container {/* jupyter's `normalize.less` sets `[hidden] { display: none; }` but bootstrap.min.css set `[hidden] { display: none !important; }` so we also need the `!important` here to be able to override the default hidden behavior on the sphinx rendered scikit-learn.org. See: https://github.com/scikit-learn/scikit-learn/issues/21755 */display: inline-block !important;position: relative;}#sk-container-id-1 div.sk-text-repr-fallback {display: none;}</style><div id=\"sk-container-id-1\" class=\"sk-top-container\"><div class=\"sk-text-repr-fallback\"><pre>MiniBatchKMeans(n_clusters=10, n_init=20)</pre><b>In a Jupyter environment, please rerun this cell to show the HTML representation or trust the notebook. <br />On GitHub, the HTML representation is unable to render, please try loading this page with nbviewer.org.</b></div><div class=\"sk-container\" hidden><div class=\"sk-item\"><div class=\"sk-estimator sk-toggleable\"><input class=\"sk-toggleable__control sk-hidden--visually\" id=\"sk-estimator-id-1\" type=\"checkbox\" checked><label for=\"sk-estimator-id-1\" class=\"sk-toggleable__label sk-toggleable__label-arrow\">MiniBatchKMeans</label><div class=\"sk-toggleable__content\"><pre>MiniBatchKMeans(n_clusters=10, n_init=20)</pre></div></div></div></div></div>"
      ],
      "text/plain": [
       "MiniBatchKMeans(n_clusters=10, n_init=20)"
      ]
     },
     "execution_count": 12,
     "metadata": {},
     "output_type": "execute_result"
    }
   ],
   "source": [
    "#n_init Number of random initializations that are tried. In contrast to KMeans, the algorithm is only run once, using the best of the n_init initializations as measured by inertia\n",
    "kmeans = MiniBatchKMeans(n_clusters = num_clusters, n_init=20)\n",
    "kmeans.fit(X_train)  ##"
   ]
  },
  {
   "cell_type": "code",
   "execution_count": 16,
   "metadata": {},
   "outputs": [],
   "source": [
    "#this will assign each cluster (0:num_clusters) to its corresponding label (0 to 9)\n",
    "def retrieve_info(cluster_labels,y_train):\n",
    "    reference_labels = {}\n",
    "    for i in range(len(np.unique(kmeans.labels_))):\n",
    "        index = np.where(cluster_labels == i,1,0)\n",
    "        num = np.bincount(y_train[index==1]).argmax()\n",
    "        reference_labels[i] = num\n",
    "    return reference_labels"
   ]
  },
  {
   "cell_type": "code",
   "execution_count": null,
   "metadata": {},
   "outputs": [],
   "source": [
    "reference_labels_train = retrieve_info(kmeans.labels_,y_train)\n",
    "reference_labels_test = retrieve_info(labels_test,y_test)\n",
    "\n",
    "centroids = kmeans.cluster_centers_.reshape(num_clusters,28,28)\n",
    "centroids = centroids * 255\n",
    "plt.figure(figsize = (10,9))\n",
    "bottom = 0.35\n",
    "for i in range(num_clusters):\n",
    "    plt.subplots_adjust(bottom)\n",
    "    plt.subplot(4,4,i+1)\n",
    "    plt.title(\"Number:{}\".format(reference_labels_test[i]),fontsize = 17)\n",
    "    plt.imshow(centroids[i])\n"
   ]
  },
  {
   "cell_type": "code",
   "execution_count": 18,
   "metadata": {},
   "outputs": [],
   "source": [
    "predicted_labels_train = np.random.rand(len(kmeans.labels_))\n",
    "for i in range(len(kmeans.labels_)):\n",
    "    predicted_labels_train[i] = reference_labels_train[kmeans.labels_[i]]"
   ]
  },
  {
   "cell_type": "code",
   "execution_count": 19,
   "metadata": {},
   "outputs": [
    {
     "name": "stdout",
     "output_type": "stream",
     "text": [
      "Training Accuracy Score (%): 58.89833333333333\n"
     ]
    }
   ],
   "source": [
    "print('Training Accuracy Score (%):',accuracy_score(predicted_labels_train,y_train)*100)"
   ]
  },
  {
   "cell_type": "code",
   "execution_count": 20,
   "metadata": {},
   "outputs": [],
   "source": [
    "labels_test = kmeans.predict(X_test)"
   ]
  },
  {
   "cell_type": "code",
   "execution_count": 21,
   "metadata": {},
   "outputs": [
    {
     "name": "stdout",
     "output_type": "stream",
     "text": [
      "Test Accuracy Score (%): 60.17\n"
     ]
    }
   ],
   "source": [
    "predicted_labels_test = np.random.rand(len(labels_test))\n",
    "for i in range(len(labels_test)):\n",
    "    predicted_labels_test[i] = reference_labels_test[labels_test[i]]\n",
    "print('Test Accuracy Score (%):',accuracy_score(predicted_labels_test,y_test)*100)"
   ]
  },
  {
   "cell_type": "code",
   "execution_count": null,
   "metadata": {},
   "outputs": [],
   "source": [
    "centroids = kmeans.cluster_centers_.reshape(num_clusters,28,28)\n",
    "centroids = centroids * 255\n",
    "plt.figure(figsize = (10,9))\n",
    "bottom = 0.35\n",
    "for i in range(num_clusters):\n",
    "    plt.subplots_adjust(bottom)\n",
    "    plt.subplot(4,4,i+1)\n",
    "    plt.title(\"Number:{}\".format(reference_labels_test[i]),fontsize = 17)\n",
    "    plt.imshow(centroids[i])"
   ]
  }
 ],
 "metadata": {
  "kernelspec": {
   "display_name": "Python 3",
   "language": "python",
   "name": "python3"
  },
  "language_info": {
   "codemirror_mode": {
    "name": "ipython",
    "version": 3
   },
   "file_extension": ".py",
   "mimetype": "text/x-python",
   "name": "python",
   "nbconvert_exporter": "python",
   "pygments_lexer": "ipython3",
   "version": "3.9.15"
  },
  "orig_nbformat": 4,
  "vscode": {
   "interpreter": {
    "hash": "7f2b55be8af22e299bb14a990e5306b14c0e04e0c371124ebf94aa533852bd32"
   }
  }
 },
 "nbformat": 4,
 "nbformat_minor": 2
}
