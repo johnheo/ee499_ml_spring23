{
 "cells": [
  {
   "cell_type": "markdown",
   "metadata": {},
   "source": [
    "**Author**: Alexios Rustom (arustom@usc.edu)\n",
    "\n",
    "**Instructors**: Prof. Keith Chugg (chugg@usc.edu) & Prof. Antonio Ortega (aortega@usc.edu)"
   ]
  },
  {
   "cell_type": "markdown",
   "metadata": {},
   "source": [
    "# Linear Algebra Review"
   ]
  },
  {
   "cell_type": "code",
   "execution_count": 1,
   "metadata": {},
   "outputs": [],
   "source": [
    "import numpy as np\n",
    "import matplotlib.pyplot as plt"
   ]
  },
  {
   "cell_type": "markdown",
   "metadata": {},
   "source": [
    "## Vectors"
   ]
  },
  {
   "cell_type": "markdown",
   "metadata": {},
   "source": [
    "A vector is another word for an ordered listing of numbers. For example, $[-3, 4, 1]$ is a vector of three elements or entries, also referred to as a vector of size or dimension three.\n",
    "\n",
    "A vector can have an arbitrary number of elements, and can contain numbers, variables, or both. For example, $[x_1, x_2, x_3, x_4]$ is a vector of four variables\n",
    "\n",
    "When numbers or variables are listed out horizontally (or in a row), we call the resulting vector a row vector\n",
    "\n",
    "However, we can list them vertically (or in column) just as well, in which case we refer to the resulting vector as a column vector:\n",
    "\n",
    "$$\n",
    "\\mathbf{x}=\\begin{bmatrix}\n",
    "1\\\\\n",
    "2\\\\\n",
    "3\n",
    "\\end{bmatrix} \n",
    "$$\n"
   ]
  },
  {
   "cell_type": "markdown",
   "metadata": {},
   "source": [
    "We can swap back and forth between a row and a column version of a vector by transposing each:\n",
    "$$\n",
    "\\mathbf{x}^T=\\begin{bmatrix}\n",
    "1, 2, 3\n",
    "\\end{bmatrix} \n",
    "$$"
   ]
  },
  {
   "cell_type": "markdown",
   "metadata": {},
   "source": [
    "A two dimensional vector $[x_1, x_2]$ can be represented as an arrow stemming from the origin and ending at the point whose coordinates are $1$ and $2$, respectively"
   ]
  },
  {
   "cell_type": "markdown",
   "metadata": {},
   "source": [
    "This is easiest to see with an example in $\\mathbb{R}^2$.  \n",
    "\n",
    "$$\n",
    "\\begin{equation}\n",
    "U_1 = \\left[ \\begin{array}{r} 1 \\\\ 3  \\end{array}\\right] \\hspace{1cm} \n",
    "U_2 = \\left[ \\begin{array}{r} 2 \\\\  -1   \\end{array}\\right]\n",
    "\\end{equation}\n",
    "$$\n",
    "\n",
    "The vector $U_1$ can be visualized as an arrow that points in the direction defined by 1 unit to the right, and 3 units up."
   ]
  },
  {
   "cell_type": "code",
   "execution_count": 2,
   "metadata": {},
   "outputs": [
    {
     "data": {
      "image/png": "[encoded data removed]",
      "text/plain": [
       "<Figure size 432x288 with 1 Axes>"
      ]
     },
     "metadata": {
      "needs_background": "light"
     },
     "output_type": "display_data"
    }
   ],
   "source": [
    "fig, ax = plt.subplots()\n",
    "options = {\"head_width\":0.1, \"head_length\":0.2, \"length_includes_head\":True}\n",
    "\n",
    "ax.arrow(0,0,1,3,fc='b',ec='b',**options)\n",
    "\n",
    "ax.text(1,2,'$U_1$')\n",
    "\n",
    "ax.set_xlim(0,5)\n",
    "ax.set_ylim(0,5)\n",
    "ax.set_aspect('equal')\n",
    "ax.grid(True,ls=':')"
   ]
  },
  {
   "cell_type": "markdown",
   "metadata": {},
   "source": [
    "## Vector Operations"
   ]
  },
  {
   "cell_type": "markdown",
   "metadata": {},
   "source": [
    "### Addition (subtraction)"
   ]
  },
  {
   "cell_type": "markdown",
   "metadata": {},
   "source": [
    "We can add (and subtract) two vectors element-wise, noting that, in order to be able to do so, the two vectors must have the same number of elements (or dimension), and both must be row or column vectors"
   ]
  },
  {
   "cell_type": "markdown",
   "metadata": {},
   "source": [
    "$$\n",
    "\\begin{equation}\n",
    "U_1 = \\left[ \\begin{array}{r} 1 \\\\ 3  \\end{array}\\right] \\hspace{1cm} \n",
    "U_2 = \\left[ \\begin{array}{r} 2 \\\\  -1   \\end{array}\\right]\n",
    "\\end{equation}\n",
    "$$"
   ]
  },
  {
   "cell_type": "markdown",
   "metadata": {},
   "source": [
    "$$\n",
    "\\begin{equation}\n",
    "U_1 + U_2 = \\left[ \\begin{array}{r} 3 \\\\ 2  \\end{array}\\right]\n",
    "\\end{equation}\n",
    "$$"
   ]
  },
  {
   "cell_type": "code",
   "execution_count": 3,
   "metadata": {},
   "outputs": [
    {
     "data": {
      "image/png": "[encoded data removed]",
      "text/plain": [
       "<Figure size 432x288 with 1 Axes>"
      ]
     },
     "metadata": {
      "needs_background": "light"
     },
     "output_type": "display_data"
    }
   ],
   "source": [
    "fig, ax = plt.subplots()\n",
    "\n",
    "ax.arrow(0,0,1,3,fc='b',ec='b',**options)\n",
    "ax.arrow(1,3,2,-1,fc='b',ec='b',**options)\n",
    "ax.arrow(0,0,3,2,fc='r',ec='r',**options)\n",
    "\n",
    "ax.text(1,2,'$U_1$')\n",
    "ax.text(2,3,'$U_2$')\n",
    "ax.text(2,1,'$U_1+U_2$')\n",
    "\n",
    "ax.set_xlim(0,4)\n",
    "ax.set_ylim(0,4)\n",
    "ax.set_aspect('equal')\n",
    "ax.grid(True,ls=':')\n",
    "\n",
    "ax.set_xticks(np.arange(0,5,step = 1));\n",
    "ax.set_yticks(np.arange(0,5,step = 1));"
   ]
  },
  {
   "cell_type": "markdown",
   "metadata": {},
   "source": [
    "### Vector Multiplication"
   ]
  },
  {
   "cell_type": "markdown",
   "metadata": {},
   "source": [
    "#### Vector Multiplication"
   ]
  },
  {
   "cell_type": "markdown",
   "metadata": {},
   "source": [
    "We can multiply any vector $x$ by a scalar c, by treating the multiplication element wise as:"
   ]
  },
  {
   "cell_type": "markdown",
   "metadata": {},
   "source": [
    "$$\n",
    "c\\mathbf{x}=\\begin{bmatrix}\n",
    "cx_{1}\\\\\n",
    "cx_{2}\\\\\n",
    "\\vdots\\\\\n",
    "cx_{N}\n",
    "\\end{bmatrix} \n",
    "$$"
   ]
  },
  {
   "cell_type": "code",
   "execution_count": 4,
   "metadata": {},
   "outputs": [
    {
     "data": {
      "image/png": "[encoded data removed]",
      "text/plain": [
       "<Figure size 432x288 with 1 Axes>"
      ]
     },
     "metadata": {
      "needs_background": "light"
     },
     "output_type": "display_data"
    }
   ],
   "source": [
    "fig, ax = plt.subplots()\n",
    "\n",
    "ax.arrow(0,0,1,3,fc='b',ec='b',**options)\n",
    "ax.arrow(2,0,2,6,fc='r',ec='r',**options)\n",
    "\n",
    "ax.text(1,2,'$U_1$')\n",
    "ax.text(4,5,'$2U_1$')\n",
    "\n",
    "ax.set_xlim(0,6)\n",
    "ax.set_ylim(0,6)\n",
    "ax.set_aspect('equal')\n",
    "ax.grid(True,ls=':')\n",
    "\n",
    "ax.set_xticks(np.arange(0,7,step = 1));\n",
    "ax.set_yticks(np.arange(0,7,step = 1));"
   ]
  },
  {
   "cell_type": "markdown",
   "metadata": {},
   "source": [
    "#### Element-wise product of two vectors"
   ]
  },
  {
   "cell_type": "markdown",
   "metadata": {},
   "source": [
    "The element-wise product, sometimes called the Hadamard product, works precisely how it sounds: we multiply two vectors element by element. Not ethat we need both vectors to have the same dimension in order to make it work."
   ]
  },
  {
   "cell_type": "markdown",
   "metadata": {},
   "source": [
    "$$\n",
    "\\mathbf{x} \\circ \\mathbf{y} = \\begin{bmatrix}\n",
    "x_{1}y_{1}\\\\\n",
    "x_{2}y_{2}\\\\\n",
    "\\vdots\\\\\n",
    "x_{N}y_{N}\n",
    "\\end{bmatrix} \n",
    "$$"
   ]
  },
  {
   "cell_type": "markdown",
   "metadata": {},
   "source": [
    "#### Inner-product of two vectors"
   ]
  },
  {
   "cell_type": "markdown",
   "metadata": {},
   "source": [
    "The inner product (also referred as the dot product) is another way to multiply two vectors of the same dimension. The inner product produces a scalar output"
   ]
  },
  {
   "cell_type": "markdown",
   "metadata": {},
   "source": [
    "$$\n",
    "\\mathbf{x}^T \\mathbf{y} = x_{1}y_{1}+ x_{2}y_{2}+ \\cdots+ x_{N}y_{N} = \\sum_{n=1}^N x_ny_n\n",
    "$$"
   ]
  },
  {
   "cell_type": "markdown",
   "metadata": {},
   "source": [
    "#### Vector Length or Magnitude"
   ]
  },
  {
   "attachments": {},
   "cell_type": "markdown",
   "metadata": {},
   "source": [
    "The length of $N$-dimensional vector $\\mathbf{x}$ is given by:"
   ]
  },
  {
   "cell_type": "markdown",
   "metadata": {},
   "source": [
    "$$\\lVert x \\rVert_2 = \\sqrt{\\mathbf{x}^T \\mathbf{x}} = \\sqrt{\\sum_{n=1}^{N}x_n^2}$$"
   ]
  },
  {
   "cell_type": "markdown",
   "metadata": {},
   "source": [
    "#### Geometric Interpretation of the inner product of two vectors"
   ]
  },
  {
   "cell_type": "markdown",
   "metadata": {},
   "source": [
    "$$\n",
    "\\mathbf{x}^T \\mathbf{y} = x_{1}y_{1}+ x_{2}y_{2}+ \\cdots+ x_{N}y_{N} = \\sum_{n=1}^N x_ny_n\n",
    "$$"
   ]
  },
  {
   "cell_type": "markdown",
   "metadata": {},
   "source": [
    "This can be written as:"
   ]
  },
  {
   "cell_type": "markdown",
   "metadata": {},
   "source": [
    "$$\n",
    "\\mathbf{x}^T \\mathbf{y} = \\lVert x \\rVert_2 \\lVert y \\rVert_2 \\cos{\\theta}\n",
    "$$"
   ]
  },
  {
   "attachments": {},
   "cell_type": "markdown",
   "metadata": {},
   "source": [
    "Where $\\theta$ is the angle between $\\mathbf{x}$ and $\\mathbf{y}$"
   ]
  },
  {
   "cell_type": "markdown",
   "metadata": {},
   "source": [
    "When two vectors are perpendicular to each other, their inner-product is equal to zero. The inner product reaches its minimal value (i.e $-1$) when $\\theta=\\pi$, and the two vectors point in completely opposite directions. When they point in the exact same direction, $\\theta=0$, and their inner product is maximal (i.e, $1$)"
   ]
  },
  {
   "cell_type": "markdown",
   "metadata": {},
   "source": [
    "#### Outer-product of two vectors"
   ]
  },
  {
   "cell_type": "markdown",
   "metadata": {},
   "source": [
    "It is another way to define the multiplication between two vectors. With two column vectors (of not necessarily the same dimension):"
   ]
  },
  {
   "cell_type": "markdown",
   "metadata": {},
   "source": [
    "$$\n",
    "\\begin{equation}\n",
    "\\mathbf{x}=\\begin{bmatrix}\n",
    "x_{1}\\\\\n",
    "x_{2}\\\\\n",
    "\\vdots\\\\\n",
    "x_{N}\n",
    "\\end{bmatrix}, \\quad \n",
    "\\mathbf{y}=\\begin{bmatrix}\n",
    "y_{1}\\\\\n",
    "y_{2}\\\\\n",
    "\\vdots\\\\\n",
    "y_{M}\n",
    "\\end{bmatrix} \n",
    "\\end{equation}\n",
    "$$"
   ]
  },
  {
   "attachments": {},
   "cell_type": "markdown",
   "metadata": {},
   "source": [
    "Their outer product is written as $\\mathbf{x}\\mathbf{y}^T$ defined as:"
   ]
  },
  {
   "attachments": {},
   "cell_type": "markdown",
   "metadata": {},
   "source": [
    "$$\\mathbf{x}\\mathbf{y}^T =  \\begin{bmatrix}\n",
    "x_{1}\\\\\n",
    "x_{2}\\\\\n",
    "\\vdots\\\\\n",
    "x_{N}\n",
    "\n",
    "\\end{bmatrix} \n",
    "\n",
    "\\begin{bmatrix}\n",
    "y_{1}\n",
    "y_{2}\n",
    "\\cdots\n",
    "y_{M}\n",
    "\\end{bmatrix}  \n",
    "= \n",
    "\\begin{bmatrix} \n",
    "x_1y_1  &  x_1y_1  &  x_1y_3  & \\cdots   &  x_1y_M  \\\\\n",
    "x_2y_1  &  x_2y_2  &  x_2y_3  & \\cdots  &   x_2y_M  \\\\\n",
    "x_3y_1  &  x_3y_2  &  x_3y_3  & \\cdots  &  x_3y_M  \\\\\n",
    "\\,\\,\\, {\\vdots}_{\\,\\,\\,}  & {\\vdots}_{\\,\\,\\,}  &  {\\vdots}_{\\,\\,\\,}  &  \\cdots   &    {\\vdots}_{\\,\\,\\,}    \\\\\n",
    "x_Ny_1  &  x_Ny_2  &  x_Ny_3  & \\cdots  &  x_Ny_M  \\\\\n",
    "\\end{bmatrix}\n",
    "$$"
   ]
  },
  {
   "cell_type": "markdown",
   "metadata": {},
   "source": [
    "The result is an $N \\times M$ matrix which can be though as a collection of $M$ column vectors of length $N$ stacked side by side (or likewise, as a collection of $N$ row vectors of length $M$ stacked on top of each other)"
   ]
  },
  {
   "cell_type": "markdown",
   "metadata": {},
   "source": [
    "#### Linear combination of vectors"
   ]
  },
  {
   "cell_type": "markdown",
   "metadata": {},
   "source": [
    "- Lets suppose our set of input points - our *dataset* - is written as  \\{$\\mathbf{x}_1,\\,\\mathbf{x}_2,\\,...,\\mathbf{x}_P\\}$ and lives in $N$ dimensions (that is, each point is $N$ dimensional). "
   ]
  },
  {
   "cell_type": "markdown",
   "metadata": {},
   "source": [
    "- Remember when thinking about data points in a multi-dimensional *vector space*, we can think of them simultaneously as 'dots' or as 'arrows'. \n",
    "\n",
    "\n",
    "- When thinking about *spanning sets of vectors* it is often helpful to visualize points in the same space using both of these conventions - i.e., some as 'dots' and others as 'arrows'."
   ]
  },
  {
   "cell_type": "markdown",
   "metadata": {},
   "source": [
    "- In order for our basis / spanning set to be capable of perfectly representing all $P$ of our points it too must live in the same $N$ dimensional space.  \n",
    "\n",
    "\n",
    "- For a candidate basis / spanning set $\\mathbf{c}_1,\\,\\mathbf{c}_2,...,\\mathbf{c}_N$ to be capable of perfectly representing such generic $N$ dimensional (input) data means...\n",
    "\n",
    "\n",
    "- ...that for each data point a set of weights exists so that, in particular linear combination, our basis set can match each data point as\n",
    "\n",
    "\\begin{equation}\n",
    "\\sum_{n=1}^N \\mathbf{c}_n w_{n,\\,p} = \\mathbf{x}_p  \\,\\,\\,\\,\\,\\,\\,\\,\\,\\,\\,\\,\\,\\,\\,\\,\\,\\,\\,\\,\\,\\,\\,\\, p=1...P.\n",
    "\\end{equation}"
   ]
  },
  {
   "cell_type": "markdown",
   "metadata": {},
   "source": [
    "## Matrices"
   ]
  },
  {
   "cell_type": "markdown",
   "metadata": {},
   "source": [
    "In this section we look at matrix algebra and some of its common properties.  We will also see how operations involving matrices are connected to linear systems of equations."
   ]
  },
  {
   "cell_type": "markdown",
   "metadata": {},
   "source": [
    "A matrix a is two-dimensional array of numbers.  When we do computations with matrices using NumPy, we will be using arrays just as we did before.  Let's write down some of examples of matrices and give them names."
   ]
  },
  {
   "cell_type": "markdown",
   "metadata": {},
   "source": [
    "$$\n",
    "\\begin{equation}\n",
    "A = \\left[ \\begin{array}{rr} 1 & 3 \\\\ 2 & 1 \\end{array}\\right] \\hspace{1cm} \n",
    "B = \\left[ \\begin{array}{rrr} 3 & 0 & 4 \\\\ -1 & -2 & 1 \\end{array}\\right] \\hspace{1cm}\n",
    "C = \\left[ \\begin{array}{rr} -2 & 1 \\\\ 4 & 1 \\end{array}\\right] \\hspace{1cm}\n",
    "D = \\left[ \\begin{array}{r} 2 \\\\ 6 \\end{array}\\right]\n",
    "\\end{equation}\n",
    "$$"
   ]
  },
  {
   "cell_type": "markdown",
   "metadata": {},
   "source": [
    "When discussing matrices it is common to talk about their dimensions, or shape, by specifying the number of rows and columns.  The number of rows is usually listed first.  For our examples, $A$ and $C$ are $2\\times 2$ matrices, $B$ is a $2 \\times 3$ matrix, and $D$ is a $2 \\times 1 $ matrix.  Matrices that have only 1 column, such as $D$, are commonly referred to as **vectors**.  We will adhere to this convention as well, but do be aware that when we make statements about matrices, we are also making statements about vectors even if we don't explicitly mention them.  We will also adopt the common convention of using uppercase letters to name matrices."
   ]
  },
  {
   "cell_type": "markdown",
   "metadata": {},
   "source": [
    "It is also necessary to talk about the individual entries of matrices.  The common notation for this is a lowercase letter with subscripts to denote the position of the entry in the matrix.  So $b_{12}$ refers to the 0 in the first row and second column of the matrix $B$.  If we are talking about generic positions, we might use variables in the subscripts, such as $a_{ij}$."
   ]
  },
  {
   "cell_type": "code",
   "execution_count": 5,
   "metadata": {},
   "outputs": [
    {
     "name": "stdout",
     "output_type": "stream",
     "text": [
      "Matrix A: \n",
      " [[1 3]\n",
      " [2 1]]\n"
     ]
    }
   ],
   "source": [
    "A = np.array([[1, 3],[2,1]])\n",
    "B = np.array([[3, 0, 4],[-1, -2, 1]])\n",
    "C = np.array([[-2, 1],[4, 1]])\n",
    "D = np.array([[2],[6]])\n",
    "print(f'Matrix A: \\n {A}')"
   ]
  },
  {
   "cell_type": "markdown",
   "metadata": {},
   "source": [
    "It will be useful for us to access the dimensions of our arrays.  When the array is created, this information gets stored as part of the array object and can be accessed with a method called $\\texttt{shape}$.  If $\\texttt{B}$ is an array, the object $\\texttt{B.shape}$ is itself an array that has two entries.  The first (*with index 0!*) is the number of rows, and the second (*with index 1!*) is the number of columns."
   ]
  },
  {
   "cell_type": "code",
   "execution_count": 6,
   "metadata": {},
   "outputs": [
    {
     "name": "stdout",
     "output_type": "stream",
     "text": [
      "Array B has 2 rows.\n",
      "Array B has 3 columns.\n"
     ]
    }
   ],
   "source": [
    "print(\"Array B has\",B.shape[0],\"rows.\")\n",
    "print(\"Array B has\",B.shape[1],\"columns.\")      "
   ]
  },
  {
   "cell_type": "markdown",
   "metadata": {},
   "source": [
    "### Operations on matrices"
   ]
  },
  {
   "cell_type": "markdown",
   "metadata": {},
   "source": [
    "#### Multiplication by a scalar"
   ]
  },
  {
   "cell_type": "markdown",
   "metadata": {},
   "source": [
    "A matrix of any shape can be multiplied by a scalar.  The result is that all entries are multiplied by that scalar.  Using the subscript notation, we would write\n",
    "\n",
    "$$\n",
    "(cA)_{ij} = ca_{ij}\n",
    "$$"
   ]
  },
  {
   "cell_type": "markdown",
   "metadata": {},
   "source": [
    "For example:\n",
    "\n",
    "$$\n",
    "\\begin{equation}\n",
    "3A = 3\\left[ \\begin{array}{rr} 1 & 3 \\\\ 2 & 1 \\end{array}\\right] \n",
    "= \\left[ \\begin{array}{rr} 3 & 9 \\\\ 6 & 3 \\end{array}\\right]\n",
    "\\end{equation}\n",
    "$$"
   ]
  },
  {
   "cell_type": "markdown",
   "metadata": {},
   "source": [
    "#### Matrix Addition"
   ]
  },
  {
   "cell_type": "markdown",
   "metadata": {},
   "source": [
    "Two matrices that *have the same shape* can be added.  The result is that all corresponding entries are added.\n",
    "\n",
    "$$\n",
    "(A+C)_{ij} = a_{ij} + c_{ij}\n",
    "$$"
   ]
  },
  {
   "cell_type": "markdown",
   "metadata": {},
   "source": [
    "For example: \n",
    "$$\n",
    "\\begin{equation}\n",
    "A + C = \\left[ \\begin{array}{rr} 1 & 3 \\\\ 2 & 1 \\end{array}\\right] + \n",
    "\\left[ \\begin{array}{rr} -2 & 1 \\\\ 4 & 1 \\end{array}\\right] \n",
    "= \\left[ \\begin{array}{rr} -1 & 4 \\\\ 6 & 2 \\end{array}\\right]\n",
    "\\end{equation}\n",
    "$$"
   ]
  },
  {
   "cell_type": "markdown",
   "metadata": {},
   "source": [
    "#### Multiplication of a matrix by a vector"
   ]
  },
  {
   "attachments": {},
   "cell_type": "markdown",
   "metadata": {},
   "source": [
    "Generally speaking, there are two ways to multiply an $N\\times M$ matrix $\\mathbf{X}$ by a vector $\\mathbf{y}$"
   ]
  },
  {
   "cell_type": "markdown",
   "metadata": {},
   "source": [
    "The first is referred to as left-multiplication:"
   ]
  },
  {
   "cell_type": "markdown",
   "metadata": {},
   "source": [
    "$$\n",
    "\\mathbf{y} \\mathbf{X} = \\begin{bmatrix}\n",
    "\\sum_{n=1}^N y_n x_{n1}, \n",
    "\\sum_{n=1}^N y_n x_{n2}, \n",
    "\\cdots, \n",
    "\\sum_{n=1}^N y_nx_{nM}, \n",
    "\\end{bmatrix} \n",
    "$$"
   ]
  },
  {
   "cell_type": "markdown",
   "metadata": {},
   "source": [
    "The second one is referred to as right multiplication:"
   ]
  },
  {
   "cell_type": "markdown",
   "metadata": {},
   "source": [
    "$$\n",
    "\\mathbf{X} \\mathbf{y} = \\begin{bmatrix}\n",
    "\\sum_{m=1}^M y_m x_{1m}\\\\\n",
    "\\sum_{m=1}^M y_m x_{2m}\\\\\n",
    "\\cdots\\\\\n",
    "\\sum_{m=1}^M y_m x_{Nm}\n",
    "\\end{bmatrix} \n",
    "$$"
   ]
  },
  {
   "cell_type": "markdown",
   "metadata": {},
   "source": [
    "#### Element-wise multiplication of two matrices"
   ]
  },
  {
   "attachments": {},
   "cell_type": "markdown",
   "metadata": {},
   "source": [
    "As with vectors, we can define element-wise multiplication on two matrices of the same dimension. The element-wise product of two $N \\times M$ matrices $\\mathbf{X}$ and $\\mathbf{Y}$ is written as:"
   ]
  },
  {
   "attachments": {},
   "cell_type": "markdown",
   "metadata": {},
   "source": [
    "$$\\mathbf{X} \\circ \\mathbf{Y} =  \n",
    "\\begin{bmatrix} \n",
    "x_{11}y_{11}  &  x_{12}y_{12}  &  x_{13}y_{13}  & \\cdots   &  x_{1M}y_{1M} \\\\\n",
    "x_{21}y_{21}  &  x_{22}y_{22}  &  x_{23}y_{23}  & \\cdots   &  x_{2M}y_{2M}    \\\\\n",
    "x_{31}y_{31}  &  x_{32}y_{32}  &  x_{33}y_{33}  & \\cdots   &  x_{3M}y_{3M}  \\\\\n",
    "\\,\\,\\, {\\vdots}_{\\,\\,\\,}  & {\\vdots}_{\\,\\,\\,}  &  {\\vdots}_{\\,\\,\\,}  &  \\cdots   &    {\\vdots}_{\\,\\,\\,}    \\\\\n",
    "x_{N1}y_{N1}  &  x_{N2}y_{N2}  &  x_{N3}y_{N3}  & \\cdots   &  x_{NM}y_{NM}   \\\\\n",
    "\\end{bmatrix}\n",
    "$$"
   ]
  },
  {
   "cell_type": "markdown",
   "metadata": {},
   "source": [
    "#### General Multiplication of two matrices"
   ]
  },
  {
   "cell_type": "markdown",
   "metadata": {},
   "source": [
    "If the number of columns of matrix $A$ is equal to the number of rows of matrix $B$, the matrices can be multiplied in the order $A$, $B$.  The result will be a new matrix $AB$, that has the same number of rows as $A$ and the same number of columns as $B$.  The entries $(AB)_{ij}$ will be the following combination of the entries of row $i$ of $A$ and column $j$ of $B$.\n",
    "\n",
    "$$\n",
    "(AB)_{ij} = \\sum_{k=1}^n a_{ik}b_{kj}\n",
    "$$"
   ]
  },
  {
   "cell_type": "markdown",
   "metadata": {},
   "source": [
    "For example:\n",
    "$$\n",
    "\\begin{equation}\n",
    "AB = \\left[ \\begin{array}{rr} 1 & 3 \\\\ 2 & 1 \\end{array}\\right]\n",
    "\\left[ \\begin{array}{rrr} 3 & 0 & 4 \\\\ -1 & -2 & 1 \\end{array}\\right]\n",
    " = \\left[ \\begin{array}{rrr} 0 & -6 & 7  \\\\  5 & -2 & 9  \\end{array}\\right]\n",
    " \\end{equation}\n",
    "$$"
   ]
  },
  {
   "cell_type": "code",
   "execution_count": 7,
   "metadata": {},
   "outputs": [
    {
     "name": "stdout",
     "output_type": "stream",
     "text": [
      "3*A= \n",
      " [[3 9]\n",
      " [6 3]] \n",
      "\n",
      "A+C=\n",
      " [[-1  4]\n",
      " [ 6  2]] \n",
      "\n",
      "AB= \n",
      " [[ 0 -6  7]\n",
      " [ 5 -2  9]]\n"
     ]
    }
   ],
   "source": [
    "print('3*A= \\n', 3*A,'\\n')\n",
    "print('A+C=\\n',A+C,'\\n')\n",
    "print('AB= \\n', A@B)"
   ]
  },
  {
   "cell_type": "markdown",
   "metadata": {},
   "source": [
    "## Eigenvalues and Eigenvectors"
   ]
  },
  {
   "attachments": {},
   "cell_type": "markdown",
   "metadata": {},
   "source": [
    "Given a square $n\\times n$ matrix $A$, a scalar $\\lambda$ is called an **eigenvalue** of $\\mathbf{X}$ if there exists some nonzero vector $\\mathbf{v}$ in $\\mathbb{R}^n$ such that $\\mathbf{A}\\mathbf{v}=\\lambda \\mathbf{v}$.  The vector $\\mathbf{X}$ is the **eigenvector** associated with $\\lambda$.  \n",
    "\n",
    "The equation states that when an eigenvector of $\\mathbf{X}$ is multiplied by $\\mathbf{v}$, the result is simply a multiple of the eigenvector.  \n",
    "\n",
    "In general, there may be multiple eigenvalues associated with a given matrix, and we will label them as $\\lambda_1$, $\\lambda_2$, etc., to keep an orderly notation.  We will label eigenvectors in a similar way in order to track which eigenvectors are associated with which eigenvalues.  "
   ]
  },
  {
   "attachments": {},
   "cell_type": "markdown",
   "metadata": {},
   "source": [
    "A symmetric matrix $\\mathbf{X} = \\mathbf{X}^T$ is an important special case of a square matrix that arises in a wide range of contexts"
   ]
  },
  {
   "cell_type": "markdown",
   "metadata": {},
   "source": [
    "The eigenvectors of symmteric matrices are always perpendicular to each other, and their eigenvalues are always real numbers"
   ]
  },
  {
   "attachments": {},
   "cell_type": "markdown",
   "metadata": {},
   "source": [
    "Staking all the eigenvectors of $\\mathbf{X}$ column-wise into a matrix $\\mathbf{V}$, and placing the corresponding eigenvalues along the diagonal of a matrix $\\mathbf{D}$, we can write:"
   ]
  },
  {
   "attachments": {},
   "cell_type": "markdown",
   "metadata": {},
   "source": [
    "$$\\mathbf{X}\\mathbf{V} = \\mathbf{V}\\mathbf{D}$$"
   ]
  },
  {
   "attachments": {},
   "cell_type": "markdown",
   "metadata": {},
   "source": [
    "When the eigenvectors are all perpendicular to each other, $\\mathbf{V}$ is an orthonormal matrix and we have $\\mathbf{V}\\mathbf{V}^T=\\mathbf{I}$"
   ]
  },
  {
   "cell_type": "markdown",
   "metadata": {},
   "source": [
    "This leads to:"
   ]
  },
  {
   "attachments": {},
   "cell_type": "markdown",
   "metadata": {},
   "source": [
    "$$\\mathbf{X} = \\mathbf{V}\\mathbf{D}\\mathbf{V}^T$$"
   ]
  },
  {
   "cell_type": "markdown",
   "metadata": {},
   "source": [
    "## Vector Norms"
   ]
  },
  {
   "cell_type": "markdown",
   "metadata": {},
   "source": [
    "We discuss popular vector norms that will arise frequently in our study of machine learning, particularly when discussing regularization. A norm is a kind of function that measures the length of real vectors. The notion of length is extremely useful as it enables us to define distance (or similarity) between any two vectors living in the same space."
   ]
  },
  {
   "attachments": {},
   "cell_type": "markdown",
   "metadata": {},
   "source": [
    "- Norms are always non-negative, that is $\\left \\Vert \\mathbf{x} \\right \\Vert \\ge 0$ for any $\\mathbf{x}$.\n",
    "- The norm of $\\alpha \\mathbf{x}$, that is a scalar multiple of $\\mathbf{x}$, can be written in terms of the norm of $\\mathbf{x}$ as $\\left \\Vert \\alpha \\mathbf{x} \\right \\Vert = \\left \\vert \\alpha \\right \\vert \\left \\Vert \\mathbf{x} \\right \\Vert$\n",
    "- Norms also satisfy the so-called triangle inequality where for any three vectors $\\mathbf{x}$, $\\mathbf{y}$, and $\\mathbf{z}$, we have $\\left \\Vert \\mathbf{x} - \\mathbf{z} \\right \\Vert + \\left \\Vert \\mathbf{z} - \\mathbf{y} \\right \\Vert \\ge \\left \\Vert \\mathbf{x} - \\mathbf{y} \\right \\Vert$"
   ]
  },
  {
   "cell_type": "markdown",
   "metadata": {},
   "source": [
    "### $\\ell_1$ norm"
   ]
  },
  {
   "cell_type": "markdown",
   "metadata": {},
   "source": [
    "- The $\\ell_1$ vector norm, written as $\\left \\Vert \\mathbf{w} \\right \\Vert_1$, measures 'magnitude' as\n",
    "\n",
    "\\begin{equation}\n",
    "\\left \\Vert \\mathbf{w} \\right \\Vert_1 = \\sum_{n=0}^N \\left \\vert w_n \\right \\vert.\n",
    "\\end{equation}"
   ]
  },
  {
   "cell_type": "markdown",
   "metadata": {},
   "source": [
    "### $\\ell_2$ norm"
   ]
  },
  {
   "cell_type": "markdown",
   "metadata": {},
   "source": [
    "- The $\\ell_2$ vector norm, written as $\\left \\Vert \\mathbf{w} \\right \\Vert_2$, measures 'magnitude' as\n",
    "\n",
    "\\begin{equation}\n",
    "\\left \\Vert \\mathbf{w} \\right \\Vert_2 = \\sqrt{\\left(\\sum_{n=0}^N w_n^2 \\right )}.\n",
    "\\end{equation}"
   ]
  }
 ],
 "metadata": {
  "kernelspec": {
   "display_name": "ee364",
   "language": "python",
   "name": "python3"
  },
  "language_info": {
   "codemirror_mode": {
    "name": "ipython",
    "version": 3
   },
   "file_extension": ".py",
   "mimetype": "text/x-python",
   "name": "python",
   "nbconvert_exporter": "python",
   "pygments_lexer": "ipython3",
   "version": "3.8.12"
  },
  "orig_nbformat": 4,
  "vscode": {
   "interpreter": {
    "hash": "6200758b7673adf34ae50bfa4217006f2c557feffe45080c236eaee64db53788"
   }
  }
 },
 "nbformat": 4,
 "nbformat_minor": 2
}
